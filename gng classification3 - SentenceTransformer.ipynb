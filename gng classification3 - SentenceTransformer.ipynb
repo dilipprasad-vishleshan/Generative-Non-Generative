{
 "cells": [
  {
   "cell_type": "code",
   "execution_count": 3,
   "id": "99fee8c1-cc41-48be-b6a2-2a9ba71a8704",
   "metadata": {},
   "outputs": [
    {
     "name": "stdout",
     "output_type": "stream",
     "text": [
      "The queries are related.\n"
     ]
    }
   ],
   "source": [
    "from sentence_transformers import SentenceTransformer, util\n",
    "\n",
    "# Load the model\n",
    "model = SentenceTransformer('paraphrase-MiniLM-L6-v2')\n",
    "\n",
    "# Example queries\n",
    "query1 = \"How do I reset my password?\"\n",
    "query2 = \"I forgot my password, how can I recover it?\"\n",
    "\n",
    "# Compute embeddings\n",
    "embedding1 = model.encode(query1, convert_to_tensor=True)\n",
    "embedding2 = model.encode(query2, convert_to_tensor=True)\n",
    "\n",
    "# Compute cosine similarity\n",
    "similarity = util.pytorch_cos_sim(embedding1, embedding2).item()\n",
    "\n",
    "# Define a threshold for determining relatedness\n",
    "threshold = 0.7\n",
    "\n",
    "# Print the resultc\n",
    "if similarity > threshold:\n",
    "    print(\"The queries are related.\")\n",
    "else:\n",
    "    print(\"The queries are not related.\")\n"
   ]
  },
  {
   "cell_type": "code",
   "execution_count": null,
   "id": "3ba4a070-7401-4f43-90d6-85a55b0a571c",
   "metadata": {},
   "outputs": [],
   "source": []
  }
 ],
 "metadata": {
  "kernelspec": {
   "display_name": "Python 3 (ipykernel)",
   "language": "python",
   "name": "python3"
  },
  "language_info": {
   "codemirror_mode": {
    "name": "ipython",
    "version": 3
   },
   "file_extension": ".py",
   "mimetype": "text/x-python",
   "name": "python",
   "nbconvert_exporter": "python",
   "pygments_lexer": "ipython3",
   "version": "3.11.7"
  }
 },
 "nbformat": 4,
 "nbformat_minor": 5
}
